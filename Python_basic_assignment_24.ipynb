{
 "cells": [
  {
   "cell_type": "markdown",
   "id": "615fabec",
   "metadata": {},
   "source": [
    "1. What is the relationship between def statements and lambda expressions ?"
   ]
  },
  {
   "cell_type": "code",
   "execution_count": null,
   "id": "cd606c15",
   "metadata": {},
   "outputs": [],
   "source": [
    "=>def statement is used to create a normal function. where as lamba expressions are used to create Anonymous functions.\n",
    "Lambda expressions is a single expression and not a block of statements like def statement. "
   ]
  },
  {
   "cell_type": "markdown",
   "id": "672c6b00",
   "metadata": {},
   "source": [
    "2. What is the benefit of lambda?"
   ]
  },
  {
   "cell_type": "code",
   "execution_count": null,
   "id": "7b909f04",
   "metadata": {},
   "outputs": [],
   "source": [
    "=>Moderate to small functions can be created in a single line."
   ]
  },
  {
   "cell_type": "markdown",
   "id": "c24a0689",
   "metadata": {},
   "source": [
    "3. Compare and contrast map, filter, and reduce."
   ]
  },
  {
   "cell_type": "code",
   "execution_count": 3,
   "id": "6c8566a1",
   "metadata": {},
   "outputs": [
    {
     "data": {
      "text/plain": [
       "[11, 12, 13, 14, 15, 16, 17, 18, 19]"
      ]
     },
     "execution_count": 3,
     "metadata": {},
     "output_type": "execute_result"
    }
   ],
   "source": [
    "l=[1,2,3,4,5,6,7,8,9]\n",
    "# map\n",
    "list(map(lambda a:a+10,l))\n",
    "\n"
   ]
  },
  {
   "cell_type": "code",
   "execution_count": 4,
   "id": "5977618c",
   "metadata": {},
   "outputs": [
    {
     "data": {
      "text/plain": [
       "[2, 4, 6, 8]"
      ]
     },
     "execution_count": 4,
     "metadata": {},
     "output_type": "execute_result"
    }
   ],
   "source": [
    "#filter-It work based on True or false\n",
    "a=lambda a: a if a%2==0 else None\n",
    "list(filter(a,l))"
   ]
  },
  {
   "cell_type": "code",
   "execution_count": 5,
   "id": "a6c68b53",
   "metadata": {},
   "outputs": [
    {
     "data": {
      "text/plain": [
       "362880"
      ]
     },
     "execution_count": 5,
     "metadata": {},
     "output_type": "execute_result"
    }
   ],
   "source": [
    "# reduce - give me multiplication of the list l.\n",
    "from functools import reduce\n",
    "reduce(lambda a,b:a*b,l)"
   ]
  },
  {
   "cell_type": "markdown",
   "id": "c6ef2020",
   "metadata": {},
   "source": [
    "4. What are function annotations, and how are they used?"
   ]
  },
  {
   "cell_type": "code",
   "execution_count": null,
   "id": "587afec3",
   "metadata": {},
   "outputs": [],
   "source": [
    "=>Function annotations provide a way of associating various parts of a function with arbitrary\n",
    "python expressions at compile time.\n",
    "Annotations of simple parameters def func(x: expression, y: expression = 20):\n",
    "Whereas the annotations for excess parameters are as − def func (**args: expression, **kwargs: expression):"
   ]
  },
  {
   "cell_type": "markdown",
   "id": "8262d445",
   "metadata": {},
   "source": [
    "5. What are recursive functions, and how are they used?"
   ]
  },
  {
   "cell_type": "code",
   "execution_count": null,
   "id": "6bcb54df",
   "metadata": {},
   "outputs": [],
   "source": [
    "=>A recursive function is a function that calls itself during its execution. The process may repeat several times, \n",
    "outputting the result and the end of each iteration."
   ]
  },
  {
   "cell_type": "markdown",
   "id": "77003cf5",
   "metadata": {},
   "source": [
    "6. What are some general design guidelines for coding functions?"
   ]
  },
  {
   "cell_type": "code",
   "execution_count": null,
   "id": "e0054e66",
   "metadata": {},
   "outputs": [],
   "source": [
    "(1)-Always use a docstring to explain the functionality of the function\n",
    "(2)-avoid using or limited use of global variables\n",
    "(3)-Proper Identation to increase the code readability\n",
    "(4)-try to follow a naming convention for function names (pascalCase or camelCase)\n",
    "   and stick with the same convention throughout the application.\n",
    "(5)-Avoid using digits while choosing a variable name\n",
    "(6)-try to use a name for the function which conveys the purpose of the function\n",
    "(7)-Local variables should be named using camelCase format (ex: localVariable) \n",
    "    whereas Global variables names should be using PascalCase (ex:GlobalVariable).\n",
    "(8)-Constant should be represented in allcaps (ex:CONSTANT)."
   ]
  },
  {
   "cell_type": "markdown",
   "id": "f55ed0d0",
   "metadata": {},
   "source": [
    "7. Name three or more ways that functions can communicate results to a caller."
   ]
  },
  {
   "cell_type": "code",
   "execution_count": null,
   "id": "a1a7eb9f",
   "metadata": {},
   "outputs": [],
   "source": [
    "print\n",
    "return\n",
    "yield"
   ]
  }
 ],
 "metadata": {
  "kernelspec": {
   "display_name": "Python 3 (ipykernel)",
   "language": "python",
   "name": "python3"
  },
  "language_info": {
   "codemirror_mode": {
    "name": "ipython",
    "version": 3
   },
   "file_extension": ".py",
   "mimetype": "text/x-python",
   "name": "python",
   "nbconvert_exporter": "python",
   "pygments_lexer": "ipython3",
   "version": "3.10.9"
  }
 },
 "nbformat": 4,
 "nbformat_minor": 5
}
